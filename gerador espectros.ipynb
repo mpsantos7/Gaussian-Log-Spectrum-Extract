{
 "cells": [
  {
   "cell_type": "code",
   "execution_count": 2,
   "metadata": {},
   "outputs": [],
   "source": [
    "#  Copyright 2015 \n",
    "#  Autor: Marcelo da P. dos Santos <marcelo_s7@hotmail.com>\n",
    "#\n",
    "#  Laboratorio de Espectroscopia Molecular (LEM)\n",
    "#  Instituto de Quimica da Universidade de Sao Paulo\n",
    "#\n",
    "#     Gera o espectro Raman e IR em um arquivo ascii \n",
    "#     a partir do log do Gaussian\n",
    "# \n",
    "#  This program is free software; you can redistribute it and/or modify\n",
    "#  it under the terms of the GNU General Public License as published by\n",
    "#  the Free Software Foundation; either version 2 of the License, or\n",
    "#  (at your option) any later version.\n",
    "#  \n",
    "#  This program is distributed in the hope that it will be useful,\n",
    "#  but WITHOUT ANY WARRANTY; without even the implied warranty of\n",
    "#  MERCHANTABILITY or FITNESS FOR A PARTICULAR PURPOSE.  See the\n",
    "#  GNU General Public License for more details.\n",
    "#  \n",
    "#  You should have received a copy of the GNU General Public License\n",
    "#  along with this program; if not, write to the Free Software\n",
    "#  Foundation, Inc., 51 Franklin Street, Fifth Floor, Boston,\n",
    "#  MA 02110-1301, USA.\n",
    "#  \n",
    "#     To do:\n",
    "#     - entrada de scaling e FWHM com defaults (feito).\n",
    "#    modificado: frequencia final eh valor maximo da freq. + 200. Anterior\n",
    "#    era fixo de 0 a 4000.\n",
    "#    - acrescentando opcao para fitting de lorentziana\n",
    "#   bug corrigido: faltou multiplicação do scaling.\n",
    "#   python 3   print, raw_input, xrange retirados 03/2019 \n",
    "#   03/2019 gui open file dialog\n",
    "#   03/2019 bug latex anaconda3"
   ]
  },
  {
   "cell_type": "code",
   "execution_count": null,
   "metadata": {},
   "outputs": [],
   "source": [
    "#### RUN ALL UNTIL ENTRY INPUT FILE CELL #####"
   ]
  },
  {
   "cell_type": "code",
   "execution_count": 2,
   "metadata": {},
   "outputs": [],
   "source": [
    "###############################################\n",
    "import sys, getopt, numpy as np\n",
    "import matplotlib as mpl\n",
    "import matplotlib.pyplot as plt\n",
    "### gui dialog ###\n",
    "from tkinter import Tk   ### T capital for python 2.7\n",
    "from tkinter.filedialog import askopenfilename\n",
    "###############################################\n",
    "global NAtoms\n",
    "mpl.rc('font',**{'family':'sans-serif','sans-serif':['Helvetica']})\n",
    "## for Palatino and other serif fonts use:\n",
    "#rc('font',**{'family':'serif','serif':['Palatino']})\n",
    "mpl.rc('text', usetex=False)  ### False, because anaconda3 latex bug.\n",
    "%matplotlib inline\n",
    "mpl.rcParams['figure.figsize'] = (16,5)"
   ]
  },
  {
   "cell_type": "code",
   "execution_count": 3,
   "metadata": {},
   "outputs": [],
   "source": [
    "def create_matrix(N):\n",
    "    freq_matrix=np.zeros(shape=[3*N-6,7])\n",
    "    return freq_matrix"
   ]
  },
  {
   "cell_type": "code",
   "execution_count": 4,
   "metadata": {},
   "outputs": [],
   "source": [
    "def leitura(linhas):\n",
    "    num_linha=0\n",
    "    data_spec=[]\n",
    "    count_freq = -1\n",
    "    for line in linhas:\n",
    "        num_linha = num_linha + 1\n",
    "        words = line.split()  ###\n",
    "        if len(words) >0:\n",
    "            if words[0] =='NAtoms=':\n",
    "                    NAtoms = int(words[1])\n",
    "                    data_spec=create_matrix(NAtoms);\n",
    "            if words[0] =='Frequencies'and words[1]=='--':\n",
    "                    count_freq += 1\n",
    "                    data_spec[0+count_freq*3][0]=float(words[2])\n",
    "                    data_spec[1+count_freq*3][0]=float(words[3])\n",
    "                    data_spec[2+count_freq*3][0]=float(words[4])\n",
    "            if words[0] == 'Red.':\n",
    "                    data_spec[0+count_freq*3][1]=float(words[3])\n",
    "                    data_spec[1+count_freq*3][1]=float(words[4])\n",
    "                    data_spec[2+count_freq*3][1]=float(words[5])                \n",
    "            if words[0] == 'Frc':\n",
    "                    data_spec[0+count_freq*3][2]=float(words[3])\n",
    "                    data_spec[1+count_freq*3][2]=float(words[4])\n",
    "                    data_spec[2+count_freq*3][2]=float(words[5])\n",
    "            if words[0]=='IR' and words[1]=='Inten':\n",
    "                    data_spec[0+count_freq*3][3]=float(words[3])\n",
    "                    data_spec[1+count_freq*3][3]=float(words[4])\n",
    "                    data_spec[2+count_freq*3][3]=float(words[5])\n",
    "            if words[0] == 'Raman' and words[1]=='Activ':\n",
    "                    Ramandata_presente = True\n",
    "                    data_spec[0+count_freq*3][4]=float(words[3])\n",
    "                    data_spec[1+count_freq*3][4]=float(words[4])\n",
    "                    data_spec[2+count_freq*3][4]=float(words[5])\n",
    "            if words[0]== 'Depolar'and words[1]=='(P)':\n",
    "                    #data_spec.append(words[3:6])\n",
    "                    data_spec[0+count_freq*3][5]=float(words[3])\n",
    "                    data_spec[1+count_freq*3][5]=float(words[4])\n",
    "                    data_spec[2+count_freq*3][5]=float(words[5])\n",
    "            if words[0]== 'Depolar'and words[1]=='(U)':\n",
    "                    data_spec[0+count_freq*3][6]=float(words[3])\n",
    "                    data_spec[1+count_freq*3][6]=float(words[4])\n",
    "                    data_spec[2+count_freq*3][6]=float(words[5])\n",
    "    return data_spec"
   ]
  },
  {
   "cell_type": "code",
   "execution_count": 5,
   "metadata": {},
   "outputs": [],
   "source": [
    "def fitting(f,f1,Intens,sigma,distr):\n",
    "\tif distr =='g':\n",
    "\t\tspectro_result = Intens*np.exp(-0.5*np.square((f-f1)/sigma))\n",
    "\telif distr == 'l':\n",
    "\t\tspectro_result = Intens/(1 +np.square((f-f1)/sigma))\n",
    "\treturn spectro_result"
   ]
  },
  {
   "cell_type": "code",
   "execution_count": 6,
   "metadata": {},
   "outputs": [],
   "source": [
    "def data_analise(data):\n",
    "    max_freq = data[-1][0]\n",
    "    Size= np.shape(data)\n",
    "    scaling = float(input('scaling[default:0.9679] : ') or 0.9679)\n",
    "    f = np.arange(1,max_freq*scaling+250,1) \n",
    "    FWHM = float(input('FWHM[default:5.0] : ') or 5.0)\n",
    "    sigma = FWHM*0.84932\n",
    "    distr = input('gaussiana (g) or lorentziana (l)[default:gaussian] : ') or 'g'\n",
    "    sumspectro_ir = 0\n",
    "    sumspectro_raman = 0\n",
    "    if sum(data[0:,4]) > 0.01:\n",
    "        Ramandata_presente= True\n",
    "    else:\n",
    "        Ramandata_presente= False\n",
    "    print('Raman Spectrum',Ramandata_presente)\n",
    "    for ii in range(0,Size[0]):\n",
    "        spectro_ir = fitting(f,data[ii][0]*scaling,data[ii][3],sigma,distr)\n",
    "        sumspectro_ir += spectro_ir\n",
    "        if Ramandata_presente==True:\n",
    "            spectro_raman = fitting(f,data[ii][0]*scaling,data[ii][4],sigma,distr)\n",
    "            sumspectro_raman += spectro_raman\n",
    "    if Ramandata_presente==True:\n",
    "        final_spectra = np.vstack((f,sumspectro_ir,sumspectro_raman))\n",
    "    else:\n",
    "        final_spectra = np.vstack((f,sumspectro_ir))\n",
    "    final_spectra = np.transpose(final_spectra)\n",
    "    return final_spectra, scaling\n"
   ]
  },
  {
   "cell_type": "code",
   "execution_count": 21,
   "metadata": {},
   "outputs": [
    {
     "name": "stdout",
     "output_type": "stream",
     "text": [
      "<_io.TextIOWrapper name='C:/Users/Marcelo/Documents/Gaussian/gaussian/SO2.log' mode='rt' encoding='cp1252'>\n"
     ]
    }
   ],
   "source": [
    "#####  ENTRY INPUT FILE #####\n",
    "#\n",
    "#####        main       #####\n",
    "\n",
    "Tk().withdraw() # we don't want a full GUI, so keep the root window from appearing\n",
    "inputfile = askopenfilename() # show an \"Open\" dialog box and return the path to the selected file\n",
    "\n",
    "with open (inputfile, 'rt') as input_file:\n",
    "    #contents = myfile.read()\n",
    "    linhas = input_file.readlines()\n",
    "    data = leitura(linhas)\n",
    "    print(input_file)\n",
    "    #print(linhas)\n",
    "#np.savetxt(outputfile,spectro_final,fmt='%.8f')\n"
   ]
  },
  {
   "cell_type": "code",
   "execution_count": 22,
   "metadata": {},
   "outputs": [
    {
     "name": "stdout",
     "output_type": "stream",
     "text": [
      "scaling[default:0.9679] : 1\n",
      "FWHM[default:5.0] : 10\n",
      "gaussiana (g) or lorentziana (l)[default:gaussian] : g\n",
      "Raman Spectrum True\n",
      "[ 502 1140 1337]\n",
      "3\n",
      "[[1.00000000e+000 0.00000000e+000 0.00000000e+000]\n",
      " [2.00000000e+000 0.00000000e+000 0.00000000e+000]\n",
      " [3.00000000e+000 0.00000000e+000 0.00000000e+000]\n",
      " ...\n",
      " [1.58500000e+003 6.79620427e-183 3.84857217e-184]\n",
      " [1.58600000e+003 2.18379326e-184 1.23664411e-185]\n",
      " [1.58700000e+003 6.92047644e-186 3.91894534e-187]]\n"
     ]
    }
   ],
   "source": [
    "spectro_final,scaling = data_analise(data)\n",
    "xx= spectro_final[:,0]\n",
    "\n",
    "peaks= np.around(data[:,0]*scaling,1).astype(int)\n",
    "#print(peaks)\n",
    "#print(peaks.size)\n",
    "#print(spectro_final)"
   ]
  },
  {
   "cell_type": "code",
   "execution_count": 20,
   "metadata": {},
   "outputs": [
    {
     "name": "stdout",
     "output_type": "stream",
     "text": [
      "<_io.TextIOWrapper name='C:/Users/Marcelo/Documents/Gaussian/gaussian/SO2.log' mode='rt' encoding='cp1252'>\n",
      "[486.          33.95648657   3.58158095]\n"
     ]
    }
   ],
   "source": [
    "print(input_file)\n",
    "print(spectro_final[485])"
   ]
  },
  {
   "cell_type": "code",
   "execution_count": 23,
   "metadata": {
    "scrolled": false
   },
   "outputs": [
    {
     "data": {
      "image/png": "[encoded data removed]",
      "text/plain": [
       "<Figure size 1152x360 with 1 Axes>"
      ]
     },
     "metadata": {
      "needs_background": "light"
     },
     "output_type": "display_data"
    }
   ],
   "source": [
    "#plt.rc(\"text\", usetex=False)  ### latex Bug Anaconda3 :( ###\n",
    "plt.plot(xx, spectro_final[:,1])\n",
    "plt.title('IR Spectrum')\n",
    "plt.xlabel('wavelenght ($\\mathrm{cm^{-1}}$)')\n",
    "for ii in range(0,peaks.size ):\n",
    "    plt.text(x_peaks[ii],spectro_final[peaks[ii],1]+1,np.str(peaks[ii]))\n",
    "plt.show()"
   ]
  },
  {
   "cell_type": "code",
   "execution_count": 9,
   "metadata": {},
   "outputs": [
    {
     "name": "stderr",
     "output_type": "stream",
     "text": [
      "findfont: Font family ['sans-serif'] not found. Falling back to DejaVu Sans.\n",
      "findfont: Font family ['sans-serif'] not found. Falling back to DejaVu Sans.\n"
     ]
    },
    {
     "data": {
      "image/png": "[encoded data removed]",
      "text/plain": [
       "<Figure size 1152x360 with 1 Axes>"
      ]
     },
     "metadata": {
      "needs_background": "light"
     },
     "output_type": "display_data"
    }
   ],
   "source": [
    "# ONLY WORKS IF THERE RAMAN DATA\n",
    "plt.plot(xx, spectro_final[:,2])\n",
    "plt.title('Raman Spectrum')\n",
    "plt.xlabel(r'wavelenght ($\\mathrm{cm^{-1}}$)')\n",
    "for ii in range(0,peaks.size ):\n",
    "    plt.text(x_peaks[ii],spectro_final[int(x_peaks[ii]),2]+1,np.str(peaks[ii]))\n",
    "plt.show()"
   ]
  }
 ],
 "metadata": {
  "kernelspec": {
   "display_name": "Python 3",
   "language": "python",
   "name": "python3"
  },
  "language_info": {
   "codemirror_mode": {
    "name": "ipython",
    "version": 3
   },
   "file_extension": ".py",
   "mimetype": "text/x-python",
   "name": "python",
   "nbconvert_exporter": "python",
   "pygments_lexer": "ipython3",
   "version": "3.7.7"
  }
 },
 "nbformat": 4,
 "nbformat_minor": 1
}
