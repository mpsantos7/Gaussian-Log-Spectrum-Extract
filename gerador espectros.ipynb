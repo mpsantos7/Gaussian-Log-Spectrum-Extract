{
 "metadata": {
  "name": "",
  "signature": "sha256:4170b16bf228a5f9dbaa7dfe25f91afdf48553d8e766ef8d1c072572de3933f2"
 },
 "nbformat": 3,
 "nbformat_minor": 0,
 "worksheets": [
  {
   "cells": [
    {
     "cell_type": "code",
     "collapsed": false,
     "input": [
      "#  Copyright 2015 Marcelo da P. dos Santos <marcelo_s7@hotmail.com>\n",
      "#\n",
      "#  Laboratorio de Espectroscopia Molecular (LEM)\n",
      "#  Instituto de Quimica da Universidade de Sao Paulo\n",
      "#\n",
      "#     Gera o espectro Raman e IR em um arquivo ascii \n",
      "#     a partir do log do Gaussian\n",
      "# \n",
      "#  This program is free software; you can redistribute it and/or modify\n",
      "#  it under the terms of the GNU General Public License as published by\n",
      "#  the Free Software Foundation; either version 2 of the License, or\n",
      "#  (at your option) any later version.\n",
      "#  \n",
      "#  This program is distributed in the hope that it will be useful,\n",
      "#  but WITHOUT ANY WARRANTY; without even the implied warranty of\n",
      "#  MERCHANTABILITY or FITNESS FOR A PARTICULAR PURPOSE.  See the\n",
      "#  GNU General Public License for more details.\n",
      "#  \n",
      "#  You should have received a copy of the GNU General Public License\n",
      "#  along with this program; if not, write to the Free Software\n",
      "#  Foundation, Inc., 51 Franklin Street, Fifth Floor, Boston,\n",
      "#  MA 02110-1301, USA.\n",
      "#  \n",
      "#     To do:\n",
      "#     - entrada de scaling e FWHM com defaults (feito).\n",
      "#    modified: frequencia final eh valor maximo da freq. + 200. Anterior\n",
      "#    era fixo de 0 a 4000.\n",
      "#    - acrescentando opcao para fitting de lorentziana\n",
      "#   bug corrigido: faltou multiplica\u00e7\u00e3o do scaling."
     ],
     "language": "python",
     "metadata": {},
     "outputs": [],
     "prompt_number": 208
    },
    {
     "cell_type": "code",
     "collapsed": false,
     "input": [
      "import sys, getopt, numpy as np\n",
      "import matplotlib as mpl\n",
      "import matplotlib.pyplot as plt\n",
      "mpl.rc('font',**{'family':'sans-serif','sans-serif':['Helvetica']})\n",
      "## for Palatino and other serif fonts use:\n",
      "#rc('font',**{'family':'serif','serif':['Palatino']})\n",
      "mpl.rc('text', usetex=True)\n",
      "%matplotlib inline\n",
      "mpl.rcParams['figure.figsize'] = (16,5)"
     ],
     "language": "python",
     "metadata": {},
     "outputs": [],
     "prompt_number": 209
    },
    {
     "cell_type": "code",
     "collapsed": false,
     "input": [
      "def create_matrix(N):\n",
      "    freq_matrix=np.zeros(shape=[3*N-6,7])\n",
      "    return freq_matrix"
     ],
     "language": "python",
     "metadata": {},
     "outputs": [],
     "prompt_number": 210
    },
    {
     "cell_type": "code",
     "collapsed": false,
     "input": [
      "def leitura(inputfile):\n",
      "    global NAtoms\n",
      "    with open(inputfile) as input_file:\n",
      "        num_linha=0\n",
      "        data_spec=[]\n",
      "        count_freq = -1\n",
      "        for line in input_file:\n",
      "            num_linha = num_linha + 1\n",
      "            words = line.split()  ###\n",
      "            if len(words) >0:\n",
      "                if words[0] =='NAtoms=':\n",
      "                    NAtoms = int(words[1])\n",
      "                    data_spec=create_matrix(NAtoms);\n",
      "                if words[0] =='Frequencies'and words[1]=='--':\n",
      "                    count_freq += 1\n",
      "                    data_spec[0+count_freq*3][0]=float(words[2])\n",
      "                    data_spec[1+count_freq*3][0]=float(words[3])\n",
      "                    data_spec[2+count_freq*3][0]=float(words[4])\n",
      "                if words[0] == 'Red.':\n",
      "                    data_spec[0+count_freq*3][1]=float(words[3])\n",
      "                    data_spec[1+count_freq*3][1]=float(words[4])\n",
      "                    data_spec[2+count_freq*3][1]=float(words[5])                \n",
      "                if words[0] == 'Frc':\n",
      "                    data_spec[0+count_freq*3][2]=float(words[3])\n",
      "                    data_spec[1+count_freq*3][2]=float(words[4])\n",
      "                    data_spec[2+count_freq*3][2]=float(words[5])\n",
      "                if words[0]=='IR' and words[1]=='Inten':\n",
      "                    data_spec[0+count_freq*3][3]=float(words[3])\n",
      "                    data_spec[1+count_freq*3][3]=float(words[4])\n",
      "                    data_spec[2+count_freq*3][3]=float(words[5])\n",
      "                if words[0] == 'Raman' and words[1]=='Activ':\n",
      "                    Ramandata_presente = True\n",
      "                    data_spec[0+count_freq*3][4]=float(words[3])\n",
      "                    data_spec[1+count_freq*3][4]=float(words[4])\n",
      "                    data_spec[2+count_freq*3][4]=float(words[5])\n",
      "                if words[0]== 'Depolar'and words[1]=='(P)':\n",
      "                    #data_spec.append(words[3:6])\n",
      "                    data_spec[0+count_freq*3][5]=float(words[3])\n",
      "                    data_spec[1+count_freq*3][5]=float(words[4])\n",
      "                    data_spec[2+count_freq*3][5]=float(words[5])\n",
      "                if words[0]== 'Depolar'and words[1]=='(U)':\n",
      "                    data_spec[0+count_freq*3][6]=float(words[3])\n",
      "                    data_spec[1+count_freq*3][6]=float(words[4])\n",
      "                    data_spec[2+count_freq*3][6]=float(words[5])\n",
      "    return data_spec"
     ],
     "language": "python",
     "metadata": {},
     "outputs": [],
     "prompt_number": 211
    },
    {
     "cell_type": "code",
     "collapsed": false,
     "input": [
      "def fitting(f,f1,Intens,sigma,distr):\n",
      "\tif distr =='g':\n",
      "\t\tspectro_result = Intens*np.exp(-0.5*np.square((f-f1)/sigma))\n",
      "\telif distr == 'l':\n",
      "\t\tspectro_result = Intens/(1 +np.square((f-f1)/sigma))\n",
      "\treturn spectro_result"
     ],
     "language": "python",
     "metadata": {},
     "outputs": [],
     "prompt_number": 212
    },
    {
     "cell_type": "code",
     "collapsed": false,
     "input": [
      "def data_analise(data):\n",
      "    max_freq = data[-1][0]\n",
      "    Size= np.shape(data)\n",
      "    scaling = float(raw_input('scaling[default:0.9679] : ') or 0.9679)\n",
      "    f = np.arange(1,max_freq*scaling+250,1) \n",
      "    FWHM = float(raw_input('FWHM[default:5.0] : ') or 5.0)\n",
      "    sigma = FWHM*0.84932\n",
      "    distr = raw_input('gaussiana (g) or lorentziana (l)[default:gaussian] : ') or 'g'\n",
      "    sumspectro_ir = 0\n",
      "    sumspectro_raman = 0\n",
      "    if sum(data[0:,4]) > 0.01:\n",
      "        Ramandata_presente= True\n",
      "    else:\n",
      "        Ramandata_presente= False\n",
      "    print 'Raman Spectrum',Ramandata_presente\n",
      "    for ii in xrange(0,Size[0]):\n",
      "        spectro_ir = fitting(f,data[ii][0]*scaling,data[ii][3],sigma,distr)\n",
      "        sumspectro_ir += spectro_ir\n",
      "        if Ramandata_presente==True:\n",
      "            spectro_raman = fitting(f,data[ii][0]*scaling,data[ii][4],sigma,distr)\n",
      "            sumspectro_raman += spectro_raman\n",
      "    if Ramandata_presente==True:\n",
      "        final_spectra = np.vstack((f,sumspectro_ir,sumspectro_raman))\n",
      "    else:\n",
      "        final_spectra = np.vstack((f,sumspectro_ir))\n",
      "    final_spectra = np.transpose(final_spectra)\n",
      "    return final_spectra, scaling\n"
     ],
     "language": "python",
     "metadata": {},
     "outputs": [],
     "prompt_number": 213
    },
    {
     "cell_type": "code",
     "collapsed": false,
     "input": [
      "#####  ENTRY INPUT FILE #####\n",
      "#\n",
      "#####        main       #####\n",
      "inputfile = 'SO2g09.log'\n",
      "#outputfile = '~/maple/saida_jupyter.dat'\n",
      "data = leitura(inputfile)\n",
      "spectro_final,scaling = data_analise(data)\n",
      "#print(spectro_final)\n",
      "\n",
      "#np.savetxt(outputfile,spectro_final,fmt='%.8f')\n"
     ],
     "language": "python",
     "metadata": {},
     "outputs": [
      {
       "name": "stdout",
       "output_type": "stream",
       "stream": "stdout",
       "text": [
        "scaling[default:0.9679] : \n"
       ]
      },
      {
       "name": "stdout",
       "output_type": "stream",
       "stream": "stdout",
       "text": [
        "FWHM[default:5.0] : \n"
       ]
      },
      {
       "name": "stdout",
       "output_type": "stream",
       "stream": "stdout",
       "text": [
        "gaussiana (g) or lorentziana (l)[default:gaussian] : \n"
       ]
      },
      {
       "output_type": "stream",
       "stream": "stdout",
       "text": [
        "Raman Spectrum True\n"
       ]
      }
     ],
     "prompt_number": 214
    },
    {
     "cell_type": "code",
     "collapsed": false,
     "input": [
      "xx= spectro_final[:,0]\n",
      "\n",
      "peaks= np.round(data[:,0]*scaling,1)\n",
      "print peaks\n",
      "x_peaks= np.round(peaks)\n",
      "print x_peaks\n",
      "print peaks.size"
     ],
     "language": "python",
     "metadata": {},
     "outputs": [
      {
       "output_type": "stream",
       "stream": "stdout",
       "text": [
        "[  485.9  1103.9  1294.6]\n",
        "[  486.  1104.  1295.]\n",
        "3\n"
       ]
      }
     ],
     "prompt_number": 215
    },
    {
     "cell_type": "code",
     "collapsed": false,
     "input": [
      "\n",
      "plt.plot(xx, spectro_final[:,1])\n",
      "plt.title('IR Spectrum')\n",
      "plt.xlabel('wavelenght ($\\mathrm{cm^{-1}}$)')\n",
      "for ii in range(0,peaks.size ):\n",
      "    plt.text(x_peaks[ii],spectro_final[x_peaks[ii],1]+1,np.str(peaks[ii]))\n",
      "plt.show()"
     ],
     "language": "python",
     "metadata": {},
     "outputs": [
      {
       "metadata": {},
       "output_type": "display_data",
       "png": "[encoded data removed]",
       "text": [
        "<matplotlib.figure.Figure at 0x7f66b9ed2710>"
       ]
      }
     ],
     "prompt_number": 219
    },
    {
     "cell_type": "code",
     "collapsed": false,
     "input": [
      "# ONLY WORKS IF THERE RAMAN DATA\n",
      "plt.plot(xx, spectro_final[:,2])\n",
      "plt.title('Raman Spectrum')\n",
      "plt.xlabel(r'wavelenght ($\\mathrm{cm^{-1}}$)')\n",
      "for ii in range(0,peaks.size ):\n",
      "    plt.text(x_peaks[ii],spectro_final[x_peaks[ii],2]+1,np.str(peaks[ii]))\n",
      "plt.show()"
     ],
     "language": "python",
     "metadata": {},
     "outputs": [
      {
       "metadata": {},
       "output_type": "display_data",
       "png": "[encoded data removed]",
       "text": [
        "<matplotlib.figure.Figure at 0x7f66b9d6c790>"
       ]
      }
     ],
     "prompt_number": 217
    },
    {
     "cell_type": "code",
     "collapsed": false,
     "input": [],
     "language": "python",
     "metadata": {},
     "outputs": [],
     "prompt_number": 217
    }
   ],
   "metadata": {}
  }
 ]
}